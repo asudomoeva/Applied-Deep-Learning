{
  "nbformat": 4,
  "nbformat_minor": 0,
  "metadata": {
    "colab": {
      "name": "color-classification.ipynb",
      "version": "0.3.2",
      "provenance": [],
      "collapsed_sections": []
    },
    "kernelspec": {
      "name": "python3",
      "display_name": "Python 3"
    }
  },
  "cells": [
    {
      "metadata": {
        "id": "PaQ8GIRYJO34",
        "colab_type": "text"
      },
      "cell_type": "markdown",
      "source": [
        "#  Color Classification\n"
      ]
    },
    {
      "metadata": {
        "id": "6-Ex7PAVJYYV",
        "colab_type": "text"
      },
      "cell_type": "markdown",
      "source": [
        "## Predicting color R,G,B values from names."
      ]
    },
    {
      "metadata": {
        "id": "pIBQSLf8JBZM",
        "colab_type": "code",
        "outputId": "dd904f76-580a-4d71-b782-2dd2eaed638d",
        "colab": {
          "base_uri": "https://localhost:8080/",
          "height": 114
        }
      },
      "cell_type": "code",
      "source": [
        "!pip install -q tensorflow-gpu==2.0.0-alpha0"
      ],
      "execution_count": 0,
      "outputs": [
        {
          "output_type": "stream",
          "text": [
            "\u001b[K    100% |████████████████████████████████| 332.1MB 43kB/s \n",
            "\u001b[K    100% |████████████████████████████████| 3.0MB 7.1MB/s \n",
            "\u001b[K    100% |████████████████████████████████| 419kB 11.3MB/s \n",
            "\u001b[K    100% |████████████████████████████████| 61kB 23.2MB/s \n",
            "\u001b[?25h"
          ],
          "name": "stdout"
        }
      ]
    },
    {
      "metadata": {
        "id": "puiQUiUuJLZG",
        "colab_type": "code",
        "colab": {}
      },
      "cell_type": "code",
      "source": [
        "import tensorflow as tf\n",
        "\n",
        "from tensorflow.keras.preprocessing.text import Tokenizer\n",
        "from tensorflow.keras.preprocessing.sequence import pad_sequences\n",
        "\n",
        "import csv\n",
        "import matplotlib.pyplot as plt\n",
        "import numpy as np\n",
        "import os\n",
        "\n",
        "from sklearn.model_selection import train_test_split"
      ],
      "execution_count": 0,
      "outputs": []
    },
    {
      "metadata": {
        "id": "Fp_xmw6DJg-M",
        "colab_type": "code",
        "outputId": "a03f827e-c8a6-404b-b7c3-382b9a877311",
        "colab": {
          "base_uri": "https://localhost:8080/",
          "height": 265
        }
      },
      "cell_type": "code",
      "source": [
        "# Download the colors dataset\n",
        "if not os.path.exists('colors.csv'):\n",
        "  !curl -O 'https://raw.githubusercontent.com/random-forests/datasets/master/colors.csv'\n",
        "!head colors.csv"
      ],
      "execution_count": 0,
      "outputs": [
        {
          "output_type": "stream",
          "text": [
            "  % Total    % Received % Xferd  Average Speed   Time    Time     Time  Current\n",
            "                                 Dload  Upload   Total   Spent    Left  Speed\n",
            "100  323k  100  323k    0     0  1260k      0 --:--:-- --:--:-- --:--:-- 1260k\n",
            "name,red,green,blue\n",
            "parakeet,174,182,87\n",
            "saddle brown,88,52,1\n",
            "cucumber crush,222,237,215\n",
            "pool blue,134,194,201\n",
            "distance,98,110,130\n",
            "light urple,179,111,246\n",
            "east side,172,145,206\n",
            "florida seashells,250,228,199\n",
            "paris,145,167,189\n"
          ],
          "name": "stdout"
        }
      ]
    },
    {
      "metadata": {
        "id": "w7zijicvXdfP",
        "colab_type": "code",
        "outputId": "ff2a95d8-5acb-4b49-dc0b-c3a235dcd936",
        "colab": {
          "base_uri": "https://localhost:8080/",
          "height": 51
        }
      },
      "cell_type": "code",
      "source": [
        "# Read the data\n",
        "colors_rgb = []\n",
        "csv_reader = csv.reader(open('colors.csv'), delimiter=',')\n",
        "next(csv_reader) # Remove the header\n",
        "for row in csv_reader:\n",
        "    name, r, g, b = row[0].lower().strip(), float(row[1]) / 255.0, float(row[2]) / 255.0, float(row[3]) / 255.0\n",
        "    colors_rgb.append((name, r, g, b))\n",
        "print(len(colors_rgb), 'colors downloaded')\n",
        "print('For example', colors_rgb[0])"
      ],
      "execution_count": 0,
      "outputs": [
        {
          "output_type": "stream",
          "text": [
            "14157 colors downloaded\n",
            "For example ('parakeet', 0.6823529411764706, 0.7137254901960784, 0.3411764705882353)\n"
          ],
          "name": "stdout"
        }
      ]
    },
    {
      "metadata": {
        "id": "6rCs3aSlXhYp",
        "colab_type": "code",
        "colab": {}
      },
      "cell_type": "code",
      "source": [
        "# collecting x features\n",
        "names = [item[0] for item in colors_rgb]\n",
        "\n",
        "# collecting target list\n",
        "r = [item[1] for item in colors_rgb]\n",
        "g = [item[2] for item in colors_rgb]\n",
        "b = [item[3] for item in colors_rgb]\n",
        "targets = np.column_stack([r, g, b])"
      ],
      "execution_count": 0,
      "outputs": []
    },
    {
      "metadata": {
        "id": "5tV2d1d4gLf1",
        "colab_type": "code",
        "colab": {}
      },
      "cell_type": "code",
      "source": [
        "# using train/test split just for fun\n",
        "names_train, names_test, targets_train, targets_test = train_test_split(names, targets, test_size = 0.1, random_state = 42)"
      ],
      "execution_count": 0,
      "outputs": []
    },
    {
      "metadata": {
        "id": "RiQ-qASuXlSv",
        "colab_type": "code",
        "colab": {}
      },
      "cell_type": "code",
      "source": [
        "maxlen = 25\n",
        "t = Tokenizer(char_level=True)\n",
        "\n",
        "# fitting only on the train\n",
        "t.fit_on_texts(names_train)\n",
        "\n",
        "# transofrming train dataset\n",
        "tokenized_train = t.texts_to_sequences(names_train)\n",
        "padded_names_train = pad_sequences(tokenized_train, maxlen=maxlen)\n",
        "padded_names_train = padded_names_train.astype('float32')\n",
        "\n",
        "# transforming test dataset\n",
        "tokenized_test = t.texts_to_sequences(names_test)\n",
        "padded_names_test = pad_sequences(tokenized_test, maxlen=maxlen)\n",
        "padded_names_test = padded_names_test.astype('float32')\n",
        "\n",
        "vocab_size = len(t.word_index) + 1"
      ],
      "execution_count": 0,
      "outputs": []
    },
    {
      "metadata": {
        "id": "vpdT9q_KqzWY",
        "colab_type": "text"
      },
      "cell_type": "markdown",
      "source": [
        "** For the purpose of this task, I deiced to test both a general DNN model as well as an RNN model to see which one would yield better color recognition results. I will start by testing the RNN model. **"
      ]
    },
    {
      "metadata": {
        "id": "-SE5HdJJX1LP",
        "colab_type": "code",
        "outputId": "e6b5e7ca-6f01-4123-b836-b1cd8a691cb1",
        "colab": {
          "base_uri": "https://localhost:8080/",
          "height": 363
        }
      },
      "cell_type": "code",
      "source": [
        "# Improved model\n",
        "model = tf.keras.Sequential()\n",
        "model.add(tf.keras.layers.Reshape((1, maxlen), input_shape=(maxlen,)))\n",
        "model.add(tf.keras.layers.GRU(128, return_sequences=True))\n",
        "model.add(tf.keras.layers.GRU(128))\n",
        "model.add(tf.keras.layers.Dense(516, activation='relu'))\n",
        "model.add(tf.keras.layers.Dense(64, activation='relu'))\n",
        "model.add(tf.keras.layers.Dense(3, activation='sigmoid'))\n",
        "model.compile('rmsprop', loss='mse') # changed optimizer to rmsprop\n",
        "model.summary()"
      ],
      "execution_count": 0,
      "outputs": [
        {
          "output_type": "stream",
          "text": [
            "Model: \"sequential_19\"\n",
            "_________________________________________________________________\n",
            "Layer (type)                 Output Shape              Param #   \n",
            "=================================================================\n",
            "reshape_13 (Reshape)         (None, 1, 25)             0         \n",
            "_________________________________________________________________\n",
            "unified_gru_10 (UnifiedGRU)  (None, 1, 128)            59520     \n",
            "_________________________________________________________________\n",
            "unified_gru_11 (UnifiedGRU)  (None, 128)               99072     \n",
            "_________________________________________________________________\n",
            "dense_30 (Dense)             (None, 516)               66564     \n",
            "_________________________________________________________________\n",
            "dense_31 (Dense)             (None, 64)                33088     \n",
            "_________________________________________________________________\n",
            "dense_32 (Dense)             (None, 3)                 195       \n",
            "=================================================================\n",
            "Total params: 258,439\n",
            "Trainable params: 258,439\n",
            "Non-trainable params: 0\n",
            "_________________________________________________________________\n"
          ],
          "name": "stdout"
        }
      ]
    },
    {
      "metadata": {
        "id": "R3f2ovr1X93A",
        "colab_type": "code",
        "outputId": "69953cf6-627c-484a-8edd-ff6e684a6591",
        "colab": {
          "base_uri": "https://localhost:8080/",
          "height": 381
        }
      },
      "cell_type": "code",
      "source": [
        "history = model.fit(padded_names_train, targets_train, epochs=10, validation_split=0.1)"
      ],
      "execution_count": 0,
      "outputs": [
        {
          "output_type": "stream",
          "text": [
            "Train on 11466 samples, validate on 1275 samples\n",
            "Epoch 1/10\n",
            "11466/11466 [==============================] - 5s 393us/sample - loss: 0.0633 - val_loss: 0.0593\n",
            "Epoch 2/10\n",
            "11466/11466 [==============================] - 3s 297us/sample - loss: 0.0601 - val_loss: 0.0577\n",
            "Epoch 3/10\n",
            "11466/11466 [==============================] - 4s 306us/sample - loss: 0.0581 - val_loss: 0.0564\n",
            "Epoch 4/10\n",
            "11466/11466 [==============================] - 3s 300us/sample - loss: 0.0564 - val_loss: 0.0568\n",
            "Epoch 5/10\n",
            "11466/11466 [==============================] - 4s 313us/sample - loss: 0.0549 - val_loss: 0.0566\n",
            "Epoch 6/10\n",
            "11466/11466 [==============================] - 3s 294us/sample - loss: 0.0534 - val_loss: 0.0551\n",
            "Epoch 7/10\n",
            "11466/11466 [==============================] - 3s 287us/sample - loss: 0.0517 - val_loss: 0.0561\n",
            "Epoch 8/10\n",
            "11466/11466 [==============================] - 3s 286us/sample - loss: 0.0505 - val_loss: 0.0554\n",
            "Epoch 9/10\n",
            "11466/11466 [==============================] - 3s 274us/sample - loss: 0.0489 - val_loss: 0.0563\n",
            "Epoch 10/10\n",
            "11466/11466 [==============================] - 3s 298us/sample - loss: 0.0476 - val_loss: 0.0567\n"
          ],
          "name": "stdout"
        }
      ]
    },
    {
      "metadata": {
        "id": "Xsiulf8MrL7p",
        "colab_type": "text"
      },
      "cell_type": "markdown",
      "source": [
        "** Next, I will set up a regular dense DNN model to evaluate its performance as well.**"
      ]
    },
    {
      "metadata": {
        "id": "zLHFV-yAmtea",
        "colab_type": "code",
        "outputId": "8c7e2773-5ed5-4fcd-f6f4-9d6a363ae54a",
        "colab": {
          "base_uri": "https://localhost:8080/",
          "height": 363
        }
      },
      "cell_type": "code",
      "source": [
        "model_dnn = tf.keras.Sequential()\n",
        "model_dnn.add(tf.keras.layers.Reshape((1, maxlen), input_shape=(maxlen,)))\n",
        "model_dnn.add(tf.keras.layers.Flatten())\n",
        "model_dnn.add(tf.keras.layers.Dense(516, activation='relu')) # added extra wide layer\n",
        "model_dnn.add(tf.keras.layers.Dense(262, activation='relu')) # added another layer\n",
        "model_dnn.add(tf.keras.layers.Dense(112, activation='relu')) # added a third layer\n",
        "model_dnn.add(tf.keras.layers.Dense(3, activation='sigmoid'))\n",
        "model_dnn.compile('rmsprop', loss='mse') # changed optimizer to rmsprop\n",
        "model_dnn.summary()"
      ],
      "execution_count": 0,
      "outputs": [
        {
          "output_type": "stream",
          "text": [
            "Model: \"sequential_31\"\n",
            "_________________________________________________________________\n",
            "Layer (type)                 Output Shape              Param #   \n",
            "=================================================================\n",
            "reshape_17 (Reshape)         (None, 1, 25)             0         \n",
            "_________________________________________________________________\n",
            "flatten_9 (Flatten)          (None, 25)                0         \n",
            "_________________________________________________________________\n",
            "dense_37 (Dense)             (None, 516)               13416     \n",
            "_________________________________________________________________\n",
            "dense_38 (Dense)             (None, 262)               135454    \n",
            "_________________________________________________________________\n",
            "dense_39 (Dense)             (None, 112)               29456     \n",
            "_________________________________________________________________\n",
            "dense_40 (Dense)             (None, 3)                 339       \n",
            "=================================================================\n",
            "Total params: 178,665\n",
            "Trainable params: 178,665\n",
            "Non-trainable params: 0\n",
            "_________________________________________________________________\n"
          ],
          "name": "stdout"
        }
      ]
    },
    {
      "metadata": {
        "id": "2dSh1pfQovZ-",
        "colab_type": "code",
        "outputId": "a25a8469-2d3d-4bec-911a-31d438566464",
        "colab": {
          "base_uri": "https://localhost:8080/",
          "height": 381
        }
      },
      "cell_type": "code",
      "source": [
        "history_dnn = model_dnn.fit(padded_names_train, targets_train, epochs=10, validation_split=0.1)"
      ],
      "execution_count": 0,
      "outputs": [
        {
          "output_type": "stream",
          "text": [
            "Train on 11466 samples, validate on 1275 samples\n",
            "Epoch 1/10\n",
            "11466/11466 [==============================] - 2s 214us/sample - loss: 0.0690 - val_loss: 0.0587\n",
            "Epoch 2/10\n",
            "11466/11466 [==============================] - 2s 172us/sample - loss: 0.0618 - val_loss: 0.0607\n",
            "Epoch 3/10\n",
            "11466/11466 [==============================] - 2s 171us/sample - loss: 0.0597 - val_loss: 0.0628\n",
            "Epoch 4/10\n",
            "11466/11466 [==============================] - 2s 179us/sample - loss: 0.0581 - val_loss: 0.0565\n",
            "Epoch 5/10\n",
            "11466/11466 [==============================] - 2s 178us/sample - loss: 0.0565 - val_loss: 0.0578\n",
            "Epoch 6/10\n",
            "11466/11466 [==============================] - 2s 177us/sample - loss: 0.0551 - val_loss: 0.0560\n",
            "Epoch 7/10\n",
            "11466/11466 [==============================] - 2s 177us/sample - loss: 0.0537 - val_loss: 0.0565\n",
            "Epoch 8/10\n",
            "11466/11466 [==============================] - 2s 173us/sample - loss: 0.0522 - val_loss: 0.0550\n",
            "Epoch 9/10\n",
            "11466/11466 [==============================] - 2s 173us/sample - loss: 0.0509 - val_loss: 0.0561\n",
            "Epoch 10/10\n",
            "11466/11466 [==============================] - 2s 170us/sample - loss: 0.0495 - val_loss: 0.0568\n"
          ],
          "name": "stdout"
        }
      ]
    },
    {
      "metadata": {
        "id": "40TEXerVrT5v",
        "colab_type": "text"
      },
      "cell_type": "markdown",
      "source": [
        "** Visualizing the two side by side: **"
      ]
    },
    {
      "metadata": {
        "id": "Om7rDImNYA52",
        "colab_type": "code",
        "outputId": "369ac9df-8ae5-44ce-f983-fe657600f508",
        "colab": {
          "base_uri": "https://localhost:8080/",
          "height": 336
        }
      },
      "cell_type": "code",
      "source": [
        "import matplotlib.pyplot as plt\n",
        "fig, axes = plt.subplots(nrows = 1, ncols = 2, figsize=(15,5))\n",
        "loss_rnn = history.history['loss']\n",
        "val_loss_rnn = history.history['val_loss']\n",
        "loss_dnn = history_dnn.history['loss']\n",
        "val_loss_dnn = history_dnn.history['val_loss']\n",
        "epochs = range(len(loss))\n",
        "axes[0].plot(epochs, loss_rnn, 'bo')\n",
        "axes[0].plot(epochs, val_loss_rnn, 'b')\n",
        "axes[0].set_title('Training and validation loss for RNN')\n",
        "axes[1].plot(epochs, loss_dnn, 'bo')\n",
        "axes[1].plot(epochs, val_loss_dnn, 'b')\n",
        "axes[1].set_title('Training and validation loss for DNN')\n",
        "plt.show()"
      ],
      "execution_count": 0,
      "outputs": [
        {
          "output_type": "display_data",
          "data": {
            "image/png": "[encoded data removed]",
            "text/plain": [
              "<Figure size 1080x360 with 2 Axes>"
            ]
          },
          "metadata": {
            "tags": []
          }
        }
      ]
    },
    {
      "metadata": {
        "id": "I5-GTjYLYDjN",
        "colab_type": "code",
        "colab": {}
      },
      "cell_type": "code",
      "source": [
        "# plots a color image\n",
        "def plot_rgb(rgb):\n",
        "    data = [[rgb]]\n",
        "    plt.figure(figsize=(2,2))\n",
        "    plt.imshow(data, interpolation='nearest')\n",
        "    plt.axis('off')\n",
        "    plt.show()"
      ],
      "execution_count": 0,
      "outputs": []
    },
    {
      "metadata": {
        "id": "-X5dOUKXYGIQ",
        "colab_type": "code",
        "colab": {}
      },
      "cell_type": "code",
      "source": [
        "def scale(n):\n",
        "    return int(n * 255)"
      ],
      "execution_count": 0,
      "outputs": []
    },
    {
      "metadata": {
        "id": "Y9EHlPAjYIH6",
        "colab_type": "code",
        "colab": {}
      },
      "cell_type": "code",
      "source": [
        "def predict(name, model):\n",
        "    tokenized = t.texts_to_sequences([name])\n",
        "    padded = pad_sequences(tokenized, maxlen=maxlen)\n",
        "    padded = padded.astype('float32')\n",
        "    pred = model.predict(np.array(padded))[0]\n",
        "    r, g, b = scale(pred[0]), scale(pred[1]), scale(pred[2])\n",
        "    print(name + ',', 'R,G,B:', r,g,b)\n",
        "    plot_rgb(pred)"
      ],
      "execution_count": 0,
      "outputs": []
    },
    {
      "metadata": {
        "id": "V_6zYC7yYKnB",
        "colab_type": "code",
        "outputId": "bd5f2513-c4d9-4ffa-b1f3-3852ebb5f48d",
        "colab": {
          "base_uri": "https://localhost:8080/",
          "height": 645
        }
      },
      "cell_type": "code",
      "source": [
        "# Seeing good results with RNN\n",
        "predict(\"light blue\", model)\n",
        "predict(\"blue\", model)\n",
        "predict(\"dark blue\", model)\n",
        "predict(\"tensorflow orange\", model)"
      ],
      "execution_count": 0,
      "outputs": [
        {
          "output_type": "stream",
          "text": [
            "light blue, R,G,B: 122 182 215\n"
          ],
          "name": "stdout"
        },
        {
          "output_type": "display_data",
          "data": {
            "image/png": "[encoded data removed]",
            "text/plain": [
              "<Figure size 144x144 with 1 Axes>"
            ]
          },
          "metadata": {
            "tags": []
          }
        },
        {
          "output_type": "stream",
          "text": [
            "blue, R,G,B: 93 149 177\n"
          ],
          "name": "stdout"
        },
        {
          "output_type": "display_data",
          "data": {
            "image/png": "[encoded data removed]",
            "text/plain": [
              "<Figure size 144x144 with 1 Axes>"
            ]
          },
          "metadata": {
            "tags": []
          }
        },
        {
          "output_type": "stream",
          "text": [
            "dark blue, R,G,B: 84 104 140\n"
          ],
          "name": "stdout"
        },
        {
          "output_type": "display_data",
          "data": {
            "image/png": "[encoded data removed]",
            "text/plain": [
              "<Figure size 144x144 with 1 Axes>"
            ]
          },
          "metadata": {
            "tags": []
          }
        },
        {
          "output_type": "stream",
          "text": [
            "tensorflow orange, R,G,B: 230 144 59\n"
          ],
          "name": "stdout"
        },
        {
          "output_type": "display_data",
          "data": {
            "image/png": "[encoded data removed]",
            "text/plain": [
              "<Figure size 144x144 with 1 Axes>"
            ]
          },
          "metadata": {
            "tags": []
          }
        }
      ]
    },
    {
      "metadata": {
        "id": "w0gSDP34qN1_",
        "colab_type": "text"
      },
      "cell_type": "markdown",
      "source": [
        "** The colors look pretty spot on! **"
      ]
    },
    {
      "metadata": {
        "id": "UJOpRr38YNBA",
        "colab_type": "code",
        "outputId": "4514a649-2d5c-40c4-b73f-63acac675877",
        "colab": {
          "base_uri": "https://localhost:8080/",
          "height": 51
        }
      },
      "cell_type": "code",
      "source": [
        "# just for fun, let us also measure the accuracy\n",
        "model.evaluate(padded_names_test, targets_test)"
      ],
      "execution_count": 0,
      "outputs": [
        {
          "output_type": "stream",
          "text": [
            "1416/1416 [==============================] - 0s 100us/sample - loss: 0.0570\n"
          ],
          "name": "stdout"
        },
        {
          "output_type": "execute_result",
          "data": {
            "text/plain": [
              "0.05699250051530741"
            ]
          },
          "metadata": {
            "tags": []
          },
          "execution_count": 87
        }
      ]
    },
    {
      "metadata": {
        "id": "1C5JApw5iFWd",
        "colab_type": "text"
      },
      "cell_type": "markdown",
      "source": [
        "** Actually seeing good performance with the hidden test set as well! Yay! **"
      ]
    },
    {
      "metadata": {
        "id": "BJPiAMz9p-gr",
        "colab_type": "code",
        "outputId": "f47f64e6-8a5f-494c-ae19-e175a3705f8c",
        "colab": {
          "base_uri": "https://localhost:8080/",
          "height": 645
        }
      },
      "cell_type": "code",
      "source": [
        "# checking regular DNN\n",
        "predict(\"light blue\", model_dnn)\n",
        "predict(\"blue\", model_dnn)\n",
        "predict(\"dark blue\", model_dnn)\n",
        "predict(\"tensorflow orange\", model_dnn)"
      ],
      "execution_count": 0,
      "outputs": [
        {
          "output_type": "stream",
          "text": [
            "light blue, R,G,B: 122 163 187\n"
          ],
          "name": "stdout"
        },
        {
          "output_type": "display_data",
          "data": {
            "image/png": "[encoded data removed]",
            "text/plain": [
              "<Figure size 144x144 with 1 Axes>"
            ]
          },
          "metadata": {
            "tags": []
          }
        },
        {
          "output_type": "stream",
          "text": [
            "blue, R,G,B: 111 145 152\n"
          ],
          "name": "stdout"
        },
        {
          "output_type": "display_data",
          "data": {
            "image/png": "[encoded data removed]",
            "text/plain": [
              "<Figure size 144x144 with 1 Axes>"
            ]
          },
          "metadata": {
            "tags": []
          }
        },
        {
          "output_type": "stream",
          "text": [
            "dark blue, R,G,B: 95 104 143\n"
          ],
          "name": "stdout"
        },
        {
          "output_type": "display_data",
          "data": {
            "image/png": "[encoded data removed]",
            "text/plain": [
              "<Figure size 144x144 with 1 Axes>"
            ]
          },
          "metadata": {
            "tags": []
          }
        },
        {
          "output_type": "stream",
          "text": [
            "tensorflow orange, R,G,B: 201 123 65\n"
          ],
          "name": "stdout"
        },
        {
          "output_type": "display_data",
          "data": {
            "image/png": "[encoded data removed]",
            "text/plain": [
              "<Figure size 144x144 with 1 Axes>"
            ]
          },
          "metadata": {
            "tags": []
          }
        }
      ]
    },
    {
      "metadata": {
        "id": "MkZXJTwYqJzp",
        "colab_type": "code",
        "outputId": "67fff908-300a-493c-b32d-94db2fa4fbdb",
        "colab": {
          "base_uri": "https://localhost:8080/",
          "height": 51
        }
      },
      "cell_type": "code",
      "source": [
        "# just for fun, let us also measure the accuracy\n",
        "model_dnn.evaluate(padded_names_test, targets_test)"
      ],
      "execution_count": 0,
      "outputs": [
        {
          "output_type": "stream",
          "text": [
            "1416/1416 [==============================] - 0s 61us/sample - loss: 0.0580\n"
          ],
          "name": "stdout"
        },
        {
          "output_type": "execute_result",
          "data": {
            "text/plain": [
              "0.057989523361968456"
            ]
          },
          "metadata": {
            "tags": []
          },
          "execution_count": 107
        }
      ]
    },
    {
      "metadata": {
        "id": "eIn1EVtBqVlf",
        "colab_type": "text"
      },
      "cell_type": "markdown",
      "source": [
        "** The colors look ok, but the test performance and visualization is lightly worse here (seeing some green cues being picked up). Looks like RNN wins! **\n",
        "\n",
        "** Nonetheless, it is important to mention that both models due to their highest degree of complexity still perform better than the given baseline with colors being barely recognizible.**"
      ]
    },
    {
      "metadata": {
        "id": "jeefn7XmsHwM",
        "colab_type": "text"
      },
      "cell_type": "markdown",
      "source": [
        "## Outputting original model as a baseline reference below"
      ]
    },
    {
      "metadata": {
        "id": "EPgZUwD-rk3q",
        "colab_type": "code",
        "outputId": "7c6dd75b-5a46-495e-f1ab-994bcd883416",
        "colab": {
          "base_uri": "https://localhost:8080/",
          "height": 397
        }
      },
      "cell_type": "code",
      "source": [
        "# outputting original model as a baseline reference\n",
        "model_original = tf.keras.Sequential()\n",
        "model_original.add(tf.keras.layers.Reshape((1, maxlen), input_shape=(maxlen,)))\n",
        "model_original.add(tf.keras.layers.Flatten())\n",
        "model_original.add(tf.keras.layers.Dense(3, activation='sigmoid'))\n",
        "model_original.compile('adam', loss='mse')\n",
        "\n",
        "model_original.fit(padded_names_train, targets_train, epochs=10, validation_split=0.1)"
      ],
      "execution_count": 0,
      "outputs": [
        {
          "output_type": "stream",
          "text": [
            "Train on 11466 samples, validate on 1275 samples\n",
            "Epoch 1/10\n",
            "11466/11466 [==============================] - 1s 54us/sample - loss: 0.2351 - val_loss: 0.1868\n",
            "Epoch 2/10\n",
            "11466/11466 [==============================] - 0s 43us/sample - loss: 0.1610 - val_loss: 0.1401\n",
            "Epoch 3/10\n",
            "11466/11466 [==============================] - 0s 44us/sample - loss: 0.1228 - val_loss: 0.1005\n",
            "Epoch 4/10\n",
            "11466/11466 [==============================] - 0s 42us/sample - loss: 0.1008 - val_loss: 0.0980\n",
            "Epoch 5/10\n",
            "11466/11466 [==============================] - 0s 42us/sample - loss: 0.0936 - val_loss: 0.0756\n",
            "Epoch 6/10\n",
            "11466/11466 [==============================] - 0s 43us/sample - loss: 0.0681 - val_loss: 0.0627\n",
            "Epoch 7/10\n",
            "11466/11466 [==============================] - 0s 42us/sample - loss: 0.0658 - val_loss: 0.0628\n",
            "Epoch 8/10\n",
            "11466/11466 [==============================] - 0s 42us/sample - loss: 0.0653 - val_loss: 0.0622\n",
            "Epoch 9/10\n",
            "11466/11466 [==============================] - 0s 42us/sample - loss: 0.0653 - val_loss: 0.0635\n",
            "Epoch 10/10\n",
            "11466/11466 [==============================] - 0s 42us/sample - loss: 0.0653 - val_loss: 0.0618\n"
          ],
          "name": "stdout"
        },
        {
          "output_type": "execute_result",
          "data": {
            "text/plain": [
              "<tensorflow.python.keras.callbacks.History at 0x7f27b9aab198>"
            ]
          },
          "metadata": {
            "tags": []
          },
          "execution_count": 108
        }
      ]
    },
    {
      "metadata": {
        "id": "Y--tErRcr9by",
        "colab_type": "code",
        "outputId": "3da4a7be-fec6-4603-9861-64dc12deef4e",
        "colab": {
          "base_uri": "https://localhost:8080/",
          "height": 645
        }
      },
      "cell_type": "code",
      "source": [
        "predict(\"light blue\", model_original)\n",
        "predict(\"blue\", model_original)\n",
        "predict(\"dark blue\", model_original)\n",
        "predict(\"tensorflow orange\", model_original)"
      ],
      "execution_count": 0,
      "outputs": [
        {
          "output_type": "stream",
          "text": [
            "light blue, R,G,B: 161 162 161\n"
          ],
          "name": "stdout"
        },
        {
          "output_type": "display_data",
          "data": {
            "image/png": "[encoded data removed]",
            "text/plain": [
              "<Figure size 144x144 with 1 Axes>"
            ]
          },
          "metadata": {
            "tags": []
          }
        },
        {
          "output_type": "stream",
          "text": [
            "blue, R,G,B: 154 151 153\n"
          ],
          "name": "stdout"
        },
        {
          "output_type": "display_data",
          "data": {
            "image/png": "[encoded data removed]",
            "text/plain": [
              "<Figure size 144x144 with 1 Axes>"
            ]
          },
          "metadata": {
            "tags": []
          }
        },
        {
          "output_type": "stream",
          "text": [
            "dark blue, R,G,B: 160 154 154\n"
          ],
          "name": "stdout"
        },
        {
          "output_type": "display_data",
          "data": {
            "image/png": "[encoded data removed]",
            "text/plain": [
              "<Figure size 144x144 with 1 Axes>"
            ]
          },
          "metadata": {
            "tags": []
          }
        },
        {
          "output_type": "stream",
          "text": [
            "tensorflow orange, R,G,B: 155 159 144\n"
          ],
          "name": "stdout"
        },
        {
          "output_type": "display_data",
          "data": {
            "image/png": "[encoded data removed]",
            "text/plain": [
              "<Figure size 144x144 with 1 Axes>"
            ]
          },
          "metadata": {
            "tags": []
          }
        }
      ]
    },
    {
      "metadata": {
        "id": "BD2fSUeasFdd",
        "colab_type": "code",
        "outputId": "f9b9baf8-e4c9-48bd-95dc-b61976d4d2db",
        "colab": {
          "base_uri": "https://localhost:8080/",
          "height": 51
        }
      },
      "cell_type": "code",
      "source": [
        "# just for fun, let us also measure the accuracy\n",
        "model_original.evaluate(padded_names_test, targets_test)"
      ],
      "execution_count": 0,
      "outputs": [
        {
          "output_type": "stream",
          "text": [
            "1416/1416 [==============================] - 0s 30us/sample - loss: 0.0629\n"
          ],
          "name": "stdout"
        },
        {
          "output_type": "execute_result",
          "data": {
            "text/plain": [
              "0.06293528346018602"
            ]
          },
          "metadata": {
            "tags": []
          },
          "execution_count": 110
        }
      ]
    }
  ]
}